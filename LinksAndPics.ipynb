{
 "cells": [
  {
   "cell_type": "markdown",
   "metadata": {},
   "source": [
    "# Links"
   ]
  },
  {
   "cell_type": "markdown",
   "metadata": {},
   "source": [
    "Datasets:\n",
    "\n",
    "* [Pascal VOC](http://host.robots.ox.ac.uk/pascal/VOC/)\n",
    "* [Semantic Boundaries Dataset (SBD)](http://home.bharathh.info/pubs/codes/SBD/download.html)\n",
    "* [Synthia](http://synthia-dataset.net/dataset/)\n",
    "* [Common Objects in Context (COCO)](http://mscoco.org/) \n",
    "\n",
    "Научные статьи:\n",
    " * [A Review on Deep Learning Techniques Applied to Semantic Segmentation](https://arxiv.org/abs/1704.06857)\n",
    " * [Fully Convolutional Networks for Semantic Segmentation](https://arxiv.org/abs/1605.06211)\n",
    " * [Multi-Scale Context Aggregation by Dilated Convolutions](https://arxiv.org/abs/1511.07122)\n",
    " \n",
    "Хороший обзор того, что есть в семантической сегментации (правда, уже чуток устарел):\n",
    " * [A review of deep learning models for semantic segmentation](http://nicolovaligi.com/deep-learning-models-semantic-segmentation.html)\n",
    " \n",
    "Репозитории:\n",
    " * https://github.com/farizrahman4u/keras-contrib/\n",
    " * https://github.com/JihongJu/keras-fcn - FCNs\n",
    " * https://github.com/nicolov/segmentation_keras - DilatedNet\n",
    " * https://github.com/shelhamer/fcn.berkeleyvision.org - Caffe FCNs с предобученными моделями\n",
    " * https://github.com/liuzhuang13/DenseNet - DenseNet\n",
    "\n",
    "Convolutions-deconvolutions:\n",
    " * https://datascience.stackexchange.com/questions/6107/what-are-deconvolutional-layers\n",
    " * https://github.com/vdumoulin/conv_arithmetic - визуалицияя свёрток"
   ]
  },
  {
   "cell_type": "markdown",
   "metadata": {},
   "source": [
    "# Pics (Network architectures)\n",
    "VGG16\n",
    "![](https://www.cs.toronto.edu/~frossard/post/vgg16/vgg16.png)\n",
    "\n",
    "FCNs\n",
    "![](imgs/models/fcn8s.png)\n",
    "\n",
    "DilatedNet\n",
    "![](https://ai2-s2-public.s3.amazonaws.com/figures/2016-11-08/420c46d7cafcb841309f02ad04cf51cb1f190a48/3-Table1-1.png)"
   ]
  },
  {
   "cell_type": "code",
   "execution_count": null,
   "metadata": {
    "collapsed": true
   },
   "outputs": [],
   "source": []
  },
  {
   "cell_type": "markdown",
   "metadata": {},
   "source": [
    "# Pics (Convolutions)"
   ]
  },
  {
   "cell_type": "markdown",
   "metadata": {},
   "source": [
    "Обычная свёртка\n",
    "![Обычная свёртка](https://raw.githubusercontent.com/vdumoulin/conv_arithmetic/master/gif/no_padding_no_strides.gif)"
   ]
  },
  {
   "cell_type": "markdown",
   "metadata": {},
   "source": [
    "Transposed convolution\n",
    "![](https://raw.githubusercontent.com/vdumoulin/conv_arithmetic/master/gif/no_padding_no_strides_transposed.gif)"
   ]
  },
  {
   "cell_type": "markdown",
   "metadata": {},
   "source": [
    "Transposed with padding and stride\n",
    "![](https://raw.githubusercontent.com/vdumoulin/conv_arithmetic/master/gif/padding_strides_transposed.gif)"
   ]
  },
  {
   "cell_type": "markdown",
   "metadata": {},
   "source": [
    "Dilated convolution\n",
    "![](https://raw.githubusercontent.com/vdumoulin/conv_arithmetic/master/gif/dilation.gif)\n",
    "\n",
    "![](http://www.inference.vc/content/images/2016/05/Screen-Shot-2016-05-12-at-09-47-12.png)"
   ]
  },
  {
   "cell_type": "code",
   "execution_count": null,
   "metadata": {
    "collapsed": true
   },
   "outputs": [],
   "source": []
  }
 ],
 "metadata": {
  "kernelspec": {
   "display_name": "Python 2",
   "language": "python",
   "name": "python2"
  },
  "language_info": {
   "codemirror_mode": {
    "name": "ipython",
    "version": 2
   },
   "file_extension": ".py",
   "mimetype": "text/x-python",
   "name": "python",
   "nbconvert_exporter": "python",
   "pygments_lexer": "ipython2",
   "version": "2.7.13"
  }
 },
 "nbformat": 4,
 "nbformat_minor": 2
}
