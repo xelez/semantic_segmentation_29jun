{
 "cells": [
  {
   "cell_type": "code",
   "execution_count": 2,
   "metadata": {
    "collapsed": false
   },
   "outputs": [
    {
     "name": "stdout",
     "output_type": "stream",
     "text": [
      "Populating the interactive namespace from numpy and matplotlib\n"
     ]
    },
    {
     "name": "stderr",
     "output_type": "stream",
     "text": [
      "Using Theano backend.\n",
      "Using cuDNN version 5110 on context None\n",
      "Mapped name None to device cuda: Tesla K20Xm (0000:20:00.0)\n"
     ]
    }
   ],
   "source": [
    "%pylab inline\n",
    "import keras\n",
    "from keras.layers import Dense, Flatten, Input, Conv2D\n",
    "from keras.models import Model"
   ]
  },
  {
   "cell_type": "markdown",
   "metadata": {},
   "source": [
    "# Научимся делать из полносвязных слоёв свёрточные\n",
    "\n",
    "Сделаем несколько простых моделей с которыми будем эксперементировать"
   ]
  },
  {
   "cell_type": "code",
   "execution_count": 3,
   "metadata": {
    "collapsed": false
   },
   "outputs": [],
   "source": [
    "inp = Input(shape=(5,5,3))\n",
    "\n",
    "x = Flatten()(inp)\n",
    "m0 = Model(inputs=inp, outputs=x) # Input + Flatten\n",
    "\n",
    "x = Dense(2, activation=None)(x)  \n",
    "m1 = Model(inputs=inp, outputs=x) # Input + Flatten + Dense"
   ]
  },
  {
   "cell_type": "code",
   "execution_count": 4,
   "metadata": {
    "collapsed": false
   },
   "outputs": [],
   "source": [
    "x = Conv2D(filters=2, kernel_size=(5,5))(inp)\n",
    "m2 = Model(inputs=inp, outputs=x) # Input + Conv2D"
   ]
  },
  {
   "cell_type": "code",
   "execution_count": 6,
   "metadata": {
    "collapsed": false
   },
   "outputs": [
    {
     "name": "stdout",
     "output_type": "stream",
     "text": [
      "Dense params shape:  (75, 2)\n",
      "Conv2D params shape: (5, 5, 3, 2)\n"
     ]
    }
   ],
   "source": [
    "print 'Dense params shape: ', m1.layers[-1].get_weights()[0].shape\n",
    "print 'Conv2D params shape:', m2.layers[-1].get_weights()[0].shape"
   ]
  },
  {
   "cell_type": "code",
   "execution_count": 7,
   "metadata": {
    "collapsed": false
   },
   "outputs": [],
   "source": [
    "# Сгенерируем конкретные веса для экспериментов\n",
    "dense_weights_W = np.array(range(1, 5*5*3*2 + 1)).reshape(5*5*3, 2).astype('float32')\n",
    "dense_weights_b = np.array([10000000, 20000000]).astype('float32')"
   ]
  },
  {
   "cell_type": "code",
   "execution_count": 8,
   "metadata": {
    "collapsed": false
   },
   "outputs": [],
   "source": [
    "# И конкретный пример\n",
    "input_x = np.array(range(5*5*3, 0, -1)).reshape(1, 5,5,3).astype('float32')"
   ]
  },
  {
   "cell_type": "markdown",
   "metadata": {},
   "source": [
    "Для начала убедимся, что слой Flatten работает предсказуемо"
   ]
  },
  {
   "cell_type": "code",
   "execution_count": 9,
   "metadata": {
    "collapsed": false
   },
   "outputs": [
    {
     "data": {
      "text/plain": [
       "array([ 75.,  74.,  73.,  72.,  71.,  70.,  69.,  68.,  67.,  66.,  65.,\n",
       "        64.,  63.,  62.,  61.,  60.,  59.,  58.,  57.,  56.,  55.,  54.,\n",
       "        53.,  52.,  51.,  50.,  49.,  48.,  47.,  46.,  45.,  44.,  43.,\n",
       "        42.,  41.,  40.,  39.,  38.,  37.,  36.,  35.,  34.,  33.,  32.,\n",
       "        31.,  30.,  29.,  28.,  27.,  26.,  25.,  24.,  23.,  22.,  21.,\n",
       "        20.,  19.,  18.,  17.,  16.,  15.,  14.,  13.,  12.,  11.,  10.,\n",
       "         9.,   8.,   7.,   6.,   5.,   4.,   3.,   2.,   1.], dtype=float32)"
      ]
     },
     "execution_count": 9,
     "metadata": {},
     "output_type": "execute_result"
    }
   ],
   "source": [
    "input_x.flatten()"
   ]
  },
  {
   "cell_type": "code",
   "execution_count": 10,
   "metadata": {
    "collapsed": false
   },
   "outputs": [
    {
     "data": {
      "text/plain": [
       "array([[ 75.,  74.,  73.,  72.,  71.,  70.,  69.,  68.,  67.,  66.,  65.,\n",
       "         64.,  63.,  62.,  61.,  60.,  59.,  58.,  57.,  56.,  55.,  54.,\n",
       "         53.,  52.,  51.,  50.,  49.,  48.,  47.,  46.,  45.,  44.,  43.,\n",
       "         42.,  41.,  40.,  39.,  38.,  37.,  36.,  35.,  34.,  33.,  32.,\n",
       "         31.,  30.,  29.,  28.,  27.,  26.,  25.,  24.,  23.,  22.,  21.,\n",
       "         20.,  19.,  18.,  17.,  16.,  15.,  14.,  13.,  12.,  11.,  10.,\n",
       "          9.,   8.,   7.,   6.,   5.,   4.,   3.,   2.,   1.]], dtype=float32)"
      ]
     },
     "execution_count": 10,
     "metadata": {},
     "output_type": "execute_result"
    }
   ],
   "source": [
    "m0.predict(input_x)"
   ]
  },
  {
   "cell_type": "markdown",
   "metadata": {},
   "source": [
    "А теперь попробуем преобразовать веса Dense слоя в веса для Conv2D слоя так, чтобы результат выполнения слоёв был одинаковым."
   ]
  },
  {
   "cell_type": "code",
   "execution_count": 11,
   "metadata": {
    "collapsed": false
   },
   "outputs": [
    {
     "data": {
      "text/plain": [
       "array([[ 10143450.,  20146300.]], dtype=float32)"
      ]
     },
     "execution_count": 11,
     "metadata": {},
     "output_type": "execute_result"
    }
   ],
   "source": [
    "# Задаём Dense слою наши веса\n",
    "m1.layers[-1].set_weights([dense_weights_W, dense_weights_b])\n",
    "m1.predict(input_x)"
   ]
  },
  {
   "cell_type": "code",
   "execution_count": 14,
   "metadata": {
    "collapsed": true
   },
   "outputs": [],
   "source": [
    "# Попробуем преобразовать\n",
    "conv_W = dense_weights_W.reshape(5,5,3,2)"
   ]
  },
  {
   "cell_type": "code",
   "execution_count": 15,
   "metadata": {
    "collapsed": false
   },
   "outputs": [
    {
     "data": {
      "text/plain": [
       "array([[[[ 10283850.,  20286700.]]]], dtype=float32)"
      ]
     },
     "execution_count": 15,
     "metadata": {},
     "output_type": "execute_result"
    }
   ],
   "source": [
    "m2.layers[-1].set_weights([conv_W, dense_weights_b])\n",
    "m2.predict(input_x)"
   ]
  },
  {
   "cell_type": "code",
   "execution_count": null,
   "metadata": {
    "collapsed": true
   },
   "outputs": [],
   "source": []
  },
  {
   "cell_type": "code",
   "execution_count": null,
   "metadata": {
    "collapsed": true
   },
   "outputs": [],
   "source": []
  },
  {
   "cell_type": "code",
   "execution_count": 16,
   "metadata": {
    "collapsed": false
   },
   "outputs": [],
   "source": [
    "# Попытка №2\n",
    "conv_W = dense_weights_W.reshape(5,5,3,2) [::-1, ::-1, :, :]"
   ]
  },
  {
   "cell_type": "code",
   "execution_count": 17,
   "metadata": {
    "collapsed": false
   },
   "outputs": [
    {
     "data": {
      "text/plain": [
       "array([[[[ 10143450.,  20146300.]]]], dtype=float32)"
      ]
     },
     "execution_count": 17,
     "metadata": {},
     "output_type": "execute_result"
    }
   ],
   "source": [
    "m2.layers[-1].set_weights([conv_W, dense_weights_b])\n",
    "m2.predict(input_x)"
   ]
  },
  {
   "cell_type": "code",
   "execution_count": null,
   "metadata": {
    "collapsed": true
   },
   "outputs": [],
   "source": []
  }
 ],
 "metadata": {
  "kernelspec": {
   "display_name": "Python 2",
   "language": "python",
   "name": "python2"
  },
  "language_info": {
   "codemirror_mode": {
    "name": "ipython",
    "version": 2
   },
   "file_extension": ".py",
   "mimetype": "text/x-python",
   "name": "python",
   "nbconvert_exporter": "python",
   "pygments_lexer": "ipython2",
   "version": "2.7.13"
  }
 },
 "nbformat": 4,
 "nbformat_minor": 2
}
